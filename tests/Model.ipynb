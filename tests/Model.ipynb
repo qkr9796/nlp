{
 "cells": [
  {
   "cell_type": "code",
   "execution_count": 1,
   "id": "0db72e36",
   "metadata": {},
   "outputs": [],
   "source": [
    "from transformers import AutoTokenizer, BertGenerationDecoder, BertGenerationConfig, EncoderDecoderModel\n",
    "from transformers import AutoTokenizer, BertModel, BertConfig\n",
    "import torch\n",
    "import torch.nn as nn\n",
    "import torch.nn.functional as F\n",
    "import pandas as pd\n",
    "from torch.utils.data import DataLoader\n",
    "from torch.utils.data import Dataset\n"
   ]
  },
  {
   "cell_type": "code",
   "execution_count": 10,
   "id": "99ea70a7",
   "metadata": {},
   "outputs": [],
   "source": [
    "model_name = \"bert-base-uncased\"\n",
    "learning_rate = 1e-6\n",
    "batch_size = 64\n",
    "epoches = 5\n",
    "device = torch.device(\"cuda:0\" if torch.cuda.is_available() else \"cpu\")"
   ]
  },
  {
   "cell_type": "code",
   "execution_count": 11,
   "id": "c1cea5a1",
   "metadata": {},
   "outputs": [],
   "source": [
    "class MyData(Dataset):\n",
    "    \n",
    "    def __init__(self,dataframe):\n",
    "        self.df = dataframe\n",
    "        self.x = df[df.columns[0]]\n",
    "        self.y = torch.tensor(df[df.columns[1]].values)\n",
    "        \n",
    "    def __len__(self):\n",
    "        return len(self.y)\n",
    "    \n",
    "    def __getitem__(self,idx):\n",
    "        return self.x[idx],self.y[idx]\n"
   ]
  },
  {
   "cell_type": "code",
   "execution_count": 12,
   "id": "2f746c52",
   "metadata": {},
   "outputs": [],
   "source": [
    "#df = pd.read_json('./archive/is_train.json')\n",
    "df = pd.read_json('./archive/slurp/train.json')\n",
    "df[df.columns[1]], labels = pd.factorize(df[df.columns[1]])\n",
    "\n",
    "num_classes = len(labels)\n",
    "train_dataloader = DataLoader(MyData(df), batch_size=batch_size, shuffle=True)"
   ]
  },
  {
   "cell_type": "code",
   "execution_count": 13,
   "id": "da7e3209",
   "metadata": {},
   "outputs": [],
   "source": [
    "tokenizer = AutoTokenizer.from_pretrained(model_name)\n",
    "\n",
    "class BertClassification(nn.Module):\n",
    "    def __init__(self, model_name, num_classes):\n",
    "        super(BertClassification, self).__init__()\n",
    "        self.bert = BertModel.from_pretrained(model_name)\n",
    "        self.config = BertConfig.from_pretrained(model_name)\n",
    "        self.classifier = nn.Linear(in_features=self.config.hidden_size, out_features=num_classes)\n",
    "        \n",
    "        torch.nn.init.xavier_normal_(self.classifier.weight.data)\n",
    "        torch.nn.init.uniform_(self.classifier.bias.data)\n",
    "        \n",
    "    def forward(self,inputs):\n",
    "        output = self.bert(**inputs)\n",
    "        output = self.classifier(output.last_hidden_state[:,0])\n",
    "        output = F.sigmoid(output)\n",
    "        \n",
    "        return output\n",
    "        \n",
    "        "
   ]
  },
  {
   "cell_type": "code",
   "execution_count": null,
   "id": "226663c3",
   "metadata": {},
   "outputs": [],
   "source": [
    "classifier = torch.load('./classifier.pt')"
   ]
  },
  {
   "cell_type": "code",
   "execution_count": 14,
   "id": "7bc61fe6",
   "metadata": {},
   "outputs": [
    {
     "name": "stderr",
     "output_type": "stream",
     "text": [
      "Some weights of the model checkpoint at bert-base-uncased were not used when initializing BertModel: ['cls.predictions.bias', 'cls.predictions.decoder.weight', 'cls.seq_relationship.weight', 'cls.seq_relationship.bias', 'cls.predictions.transform.LayerNorm.weight', 'cls.predictions.transform.dense.bias', 'cls.predictions.transform.LayerNorm.bias', 'cls.predictions.transform.dense.weight']\n",
      "- This IS expected if you are initializing BertModel from the checkpoint of a model trained on another task or with another architecture (e.g. initializing a BertForSequenceClassification model from a BertForPreTraining model).\n",
      "- This IS NOT expected if you are initializing BertModel from the checkpoint of a model that you expect to be exactly identical (initializing a BertForSequenceClassification model from a BertForSequenceClassification model).\n"
     ]
    }
   ],
   "source": [
    "classifier = BertClassification(model_name, num_classes)"
   ]
  },
  {
   "cell_type": "code",
   "execution_count": 15,
   "id": "e69e4816",
   "metadata": {},
   "outputs": [
    {
     "name": "stdout",
     "output_type": "stream",
     "text": [
      "cuda:0\n",
      "Epoch [1 / 5] average cross entropy error: 4.185834\n",
      "Epoch [2 / 5] average cross entropy error: 4.172719\n",
      "Epoch [3 / 5] average cross entropy error: 4.166778\n",
      "Epoch [4 / 5] average cross entropy error: 4.163884\n",
      "Epoch [5 / 5] average cross entropy error: 4.164282\n"
     ]
    },
    {
     "data": {
      "text/plain": [
       "BertClassification(\n",
       "  (bert): BertModel(\n",
       "    (embeddings): BertEmbeddings(\n",
       "      (word_embeddings): Embedding(30522, 768, padding_idx=0)\n",
       "      (position_embeddings): Embedding(512, 768)\n",
       "      (token_type_embeddings): Embedding(2, 768)\n",
       "      (LayerNorm): LayerNorm((768,), eps=1e-12, elementwise_affine=True)\n",
       "      (dropout): Dropout(p=0.1, inplace=False)\n",
       "    )\n",
       "    (encoder): BertEncoder(\n",
       "      (layer): ModuleList(\n",
       "        (0-11): 12 x BertLayer(\n",
       "          (attention): BertAttention(\n",
       "            (self): BertSelfAttention(\n",
       "              (query): Linear(in_features=768, out_features=768, bias=True)\n",
       "              (key): Linear(in_features=768, out_features=768, bias=True)\n",
       "              (value): Linear(in_features=768, out_features=768, bias=True)\n",
       "              (dropout): Dropout(p=0.1, inplace=False)\n",
       "            )\n",
       "            (output): BertSelfOutput(\n",
       "              (dense): Linear(in_features=768, out_features=768, bias=True)\n",
       "              (LayerNorm): LayerNorm((768,), eps=1e-12, elementwise_affine=True)\n",
       "              (dropout): Dropout(p=0.1, inplace=False)\n",
       "            )\n",
       "          )\n",
       "          (intermediate): BertIntermediate(\n",
       "            (dense): Linear(in_features=768, out_features=3072, bias=True)\n",
       "            (intermediate_act_fn): GELUActivation()\n",
       "          )\n",
       "          (output): BertOutput(\n",
       "            (dense): Linear(in_features=3072, out_features=768, bias=True)\n",
       "            (LayerNorm): LayerNorm((768,), eps=1e-12, elementwise_affine=True)\n",
       "            (dropout): Dropout(p=0.1, inplace=False)\n",
       "          )\n",
       "        )\n",
       "      )\n",
       "    )\n",
       "    (pooler): BertPooler(\n",
       "      (dense): Linear(in_features=768, out_features=768, bias=True)\n",
       "      (activation): Tanh()\n",
       "    )\n",
       "  )\n",
       "  (classifier): Linear(in_features=768, out_features=91, bias=True)\n",
       ")"
      ]
     },
     "execution_count": 15,
     "metadata": {},
     "output_type": "execute_result"
    }
   ],
   "source": [
    "classifier.to(device)\n",
    "classifier.train()\n",
    "\n",
    "criterion = nn.CrossEntropyLoss()\n",
    "optimizer = torch.optim.Adam(params=classifier.parameters(), lr=learning_rate, weight_decay=1e-5)\n",
    "\n",
    "train_loss_avg = []\n",
    "\n",
    "print(device)\n",
    "\n",
    "for epoch in range(epoches):\n",
    "    train_loss_avg.append(0)\n",
    "    num_batches = 0\n",
    "    \n",
    "    for train_x, train_y in train_dataloader:\n",
    "        inputs = tokenizer(train_x, padding=True, return_tensors='pt').to(device)\n",
    "        train_y = train_y.to(device)\n",
    "        \n",
    "        output = classifier(inputs)\n",
    "    \n",
    "        loss = criterion(output, train_y)\n",
    "    \n",
    "        optimizer.zero_grad()\n",
    "        loss.backward()\n",
    "    \n",
    "        optimizer.step()\n",
    "        \n",
    "        train_loss_avg[-1] += loss.item()\n",
    "        num_batches += 1\n",
    "    \n",
    "        \n",
    "    train_loss_avg[-1] /= num_batches\n",
    "    print('Epoch [%d / %d] average cross entropy error: %f' % (epoch+1, epoches, train_loss_avg[-1]))\n",
    "    torch.save(classifier, './classifier.pt')\n",
    "    \n",
    "classifier.to('cpu')"
   ]
  },
  {
   "cell_type": "code",
   "execution_count": 38,
   "id": "f2ef0fa9",
   "metadata": {},
   "outputs": [],
   "source": [
    "torch.cuda.empty_cache()"
   ]
  },
  {
   "cell_type": "code",
   "execution_count": 43,
   "id": "193490cd",
   "metadata": {},
   "outputs": [],
   "source": [
    "torch.save(classifier, './classifier.pt')"
   ]
  },
  {
   "cell_type": "code",
   "execution_count": 19,
   "id": "edd1a440",
   "metadata": {},
   "outputs": [
    {
     "name": "stdout",
     "output_type": "stream",
     "text": [
      "Index(['calendar_set', 'audio_volume_up', 'iot_hue_lightup', 'weather_query',\n",
      "       'iot_coffee', 'audio_volume_mute', 'lists_remove', 'email_query',\n",
      "       'alarm_set', 'alarm_query', 'qa_stock', 'play_music',\n",
      "       'recommendation_events', 'qa_definition', 'alarm_remove',\n",
      "       'play_podcasts', 'social_query', 'email_addcontact', 'news_query',\n",
      "       'calendar_query', 'music_likeness', 'general_quirky', 'qa_factoid',\n",
      "       'takeaway_order', 'play_audiobook', 'iot_cleaning', 'general_greet',\n",
      "       'transport_query', 'transport_taxi', 'email_sendemail', 'general_joke',\n",
      "       'qa_maths', 'social_post', 'transport_ticket', 'cooking_recipe',\n",
      "       'music_settings', 'calendar_remove', 'iot_wemo_on',\n",
      "       'iot_hue_lightchange', 'play_radio', 'email_querycontact',\n",
      "       'transport_traffic', 'qa_currency', 'datetime_query',\n",
      "       'iot_hue_lightoff', 'takeaway_query', 'lists_createoradd',\n",
      "       'music_query', 'recommendation_locations', 'lists_query',\n",
      "       'recommendation_movies', 'iot_wemo_off', 'iot_hue_lighton', 'sendemail',\n",
      "       'audio_volume_down', 'play_game', 'music', 'datetime_convert',\n",
      "       'iot_hue_lightdim', 'query', 'createoradd', 'music_dislikeness',\n",
      "       'podcasts', 'joke', 'set', 'hue_lightup', 'factoid',\n",
      "       'audio_volume_other', 'hue_lightoff', 'quirky', 'querycontact', 'radio',\n",
      "       'addcontact', 'greet', 'ticket', 'traffic', 'cooking_query', 'remove',\n",
      "       'currency', 'coffee', 'game', 'wemo_on', 'definition', 'events', 'post',\n",
      "       'hue_lightdim', 'convert', 'wemo_off', 'cleaning', 'settings',\n",
      "       'volume_other'],\n",
      "      dtype='object')\n",
      "0 calendar_set\n"
     ]
    }
   ],
   "source": [
    "classifier.eval()\n",
    "classifier.to('cpu')\n",
    "text = \"what time is it\"\n",
    "output = torch.argmax(classifier(tokenizer(text, return_tensors='pt'))).item()\n",
    "print(labels)\n",
    "print(output, labels[output])"
   ]
  },
  {
   "cell_type": "code",
   "execution_count": null,
   "id": "a46ecf64",
   "metadata": {},
   "outputs": [],
   "source": []
  }
 ],
 "metadata": {
  "kernelspec": {
   "display_name": "Python 3 (ipykernel)",
   "language": "python",
   "name": "python3"
  },
  "language_info": {
   "codemirror_mode": {
    "name": "ipython",
    "version": 3
   },
   "file_extension": ".py",
   "mimetype": "text/x-python",
   "name": "python",
   "nbconvert_exporter": "python",
   "pygments_lexer": "ipython3",
   "version": "3.9.11"
  }
 },
 "nbformat": 4,
 "nbformat_minor": 5
}
