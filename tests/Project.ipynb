{
 "cells": [
  {
   "cell_type": "code",
   "execution_count": 4,
   "id": "00c97b08",
   "metadata": {},
   "outputs": [],
   "source": [
    "from transformers import AutoTokenizer, BertModel, BertConfig\n",
    "import torch\n",
    "import torch.nn as nn\n",
    "import torch.nn.functional as F"
   ]
  },
  {
   "cell_type": "code",
   "execution_count": 6,
   "id": "be53347f",
   "metadata": {},
   "outputs": [
    {
     "name": "stderr",
     "output_type": "stream",
     "text": [
      "Some weights of the model checkpoint at bert-base-uncased were not used when initializing BertModel: ['cls.seq_relationship.bias', 'cls.predictions.transform.LayerNorm.bias', 'cls.predictions.transform.dense.bias', 'cls.predictions.transform.LayerNorm.weight', 'cls.seq_relationship.weight', 'cls.predictions.bias', 'cls.predictions.transform.dense.weight', 'cls.predictions.decoder.weight']\n",
      "- This IS expected if you are initializing BertModel from the checkpoint of a model trained on another task or with another architecture (e.g. initializing a BertForSequenceClassification model from a BertForPreTraining model).\n",
      "- This IS NOT expected if you are initializing BertModel from the checkpoint of a model that you expect to be exactly identical (initializing a BertForSequenceClassification model from a BertForSequenceClassification model).\n"
     ]
    },
    {
     "data": {
      "text/plain": [
       "768"
      ]
     },
     "execution_count": 6,
     "metadata": {},
     "output_type": "execute_result"
    }
   ],
   "source": [
    "\n",
    "import torch\n",
    "\n",
    "tokenizer = AutoTokenizer.from_pretrained(\"bert-base-uncased\")\n",
    "model = BertModel.from_pretrained(\"bert-base-uncased\")\n",
    "config = BertConfig.from_pretrained(\"bert-base-uncased\")\n",
    "config.hidden_size\n",
    "\n",
    "\n"
   ]
  },
  {
   "cell_type": "code",
   "execution_count": 8,
   "id": "56e64a82",
   "metadata": {},
   "outputs": [
    {
     "name": "stdout",
     "output_type": "stream",
     "text": [
      "<class 'transformers.tokenization_utils_base.BatchEncoding'>\n"
     ]
    },
    {
     "data": {
      "text/plain": [
       "torch.Size([1, 8, 768])"
      ]
     },
     "execution_count": 8,
     "metadata": {},
     "output_type": "execute_result"
    }
   ],
   "source": [
    "inputs = tokenizer(\"Hello, my dog is cute\", return_tensors=\"pt\")\n",
    "outputs = model(**inputs)\n",
    "\n",
    "last_hidden_states = outputs.last_hidden_state\n",
    "last_hidden_states.shape\n",
    "\n"
   ]
  },
  {
   "cell_type": "code",
   "execution_count": 3,
   "id": "66d11198",
   "metadata": {},
   "outputs": [
    {
     "name": "stdout",
     "output_type": "stream",
     "text": [
      "150\n",
      "15000\n"
     ]
    }
   ],
   "source": [
    "import pandas as pd\n",
    "from torch.utils.data import DataLoader\n",
    "from torch.utils.data import Dataset\n",
    "\n",
    "\n",
    "class MyData(Dataset):\n",
    "    \n",
    "    def __init__(self,dataframe):\n",
    "        self.df = dataframe\n",
    "        self.x = df[0]\n",
    "        self.y = torch.tensor(df[1].values)\n",
    "        \n",
    "    def __len__(self):\n",
    "        return len(self.y)\n",
    "    \n",
    "    def __getitem__(self,idx):\n",
    "        return self.x[idx],self.y[idx]\n",
    "\n",
    "\n",
    "df = pd.read_json('./archive/is_train.json')\n",
    "\n",
    "df[1], uniques = pd.factorize(df[1])\n",
    "\n",
    "num_classes = len(uniques)\n",
    "print(num_classes)\n",
    "print(len(df[1]))\n",
    "\n",
    "train_dataloader = DataLoader(MyData(df), batch_size=64, shuffle=True)\n",
    "\n"
   ]
  },
  {
   "cell_type": "code",
   "execution_count": 5,
   "id": "53f65d34",
   "metadata": {},
   "outputs": [],
   "source": [
    "tokenizer = AutoTokenizer.from_pretrained(\"bert-base-uncased\")\n",
    "\n",
    "class BertClassification(nn.Module):\n",
    "    def __init__(self, model_name, num_classes):\n",
    "        super(BertClassification, self).__init__()\n",
    "        self.bert = BertModel.from_pretrained(model_name)\n",
    "        self.config = BertConfig.from_pretrained(model_name)\n",
    "        self.classifier = nn.Linear(in_features=self.config.hidden_size, out_features=num_classes)\n",
    "        \n",
    "        torch.nn.init.xavier_normal_(self.classifier.weight.data)\n",
    "        torch.nn.init.uniform_(self.classifier.bias.data)\n",
    "        \n",
    "    def forward(self,inputs):\n",
    "        output = self.bert(**inputs)\n",
    "        output = self.classifier(output.last_hidden_state[:,0])\n",
    "        output = F.sigmoid(output)\n",
    "        \n",
    "        return output\n",
    "        \n",
    "        "
   ]
  },
  {
   "cell_type": "code",
   "execution_count": 15,
   "id": "c17e9033",
   "metadata": {},
   "outputs": [
    {
     "name": "stderr",
     "output_type": "stream",
     "text": [
      "Some weights of the model checkpoint at bert-base-uncased were not used when initializing BertModel: ['cls.predictions.transform.LayerNorm.weight', 'cls.predictions.decoder.weight', 'cls.seq_relationship.weight', 'cls.predictions.transform.dense.weight', 'cls.predictions.transform.LayerNorm.bias', 'cls.seq_relationship.bias', 'cls.predictions.transform.dense.bias', 'cls.predictions.bias']\n",
      "- This IS expected if you are initializing BertModel from the checkpoint of a model trained on another task or with another architecture (e.g. initializing a BertForSequenceClassification model from a BertForPreTraining model).\n",
      "- This IS NOT expected if you are initializing BertModel from the checkpoint of a model that you expect to be exactly identical (initializing a BertForSequenceClassification model from a BertForSequenceClassification model).\n"
     ]
    },
    {
     "name": "stdout",
     "output_type": "stream",
     "text": [
      "cuda:0\n",
      "Epoch [1 / 10] average reconstruction error: 5.007173\n",
      "Epoch [2 / 10] average reconstruction error: 4.930029\n",
      "Epoch [3 / 10] average reconstruction error: 4.845474\n",
      "Epoch [4 / 10] average reconstruction error: 4.772070\n",
      "Epoch [5 / 10] average reconstruction error: 4.712622\n",
      "Epoch [6 / 10] average reconstruction error: 4.659827\n",
      "Epoch [7 / 10] average reconstruction error: 4.616968\n",
      "Epoch [8 / 10] average reconstruction error: 4.578407\n",
      "Epoch [9 / 10] average reconstruction error: 4.545884\n",
      "Epoch [10 / 10] average reconstruction error: 4.517409\n"
     ]
    }
   ],
   "source": [
    "#classifier = BertClassification(\"bert-base-uncased\", num_classes)\n",
    "\n",
    "device = torch.device(\"cuda:0\" if torch.cuda.is_available() else \"cpu\")\n",
    "print(device)\n",
    "\n",
    "criterion = nn.CrossEntropyLoss()\n",
    "optimizer = torch.optim.Adam(params=classifier.parameters(), lr=1e-6, weight_decay=1e-5)\n",
    "\n",
    "epoches = 10\n",
    "\n",
    "\n",
    "classifier.to(device)\n",
    "classifier.train()\n",
    "\n",
    "train_loss_avg = []\n",
    "\n",
    "for epoch in range(epoches):\n",
    "    train_loss_avg.append(0)\n",
    "    num_batches = 0\n",
    "    \n",
    "    for train_x, train_y in train_dataloader:\n",
    "        inputs = tokenizer(train_x, padding=True, return_tensors='pt').to(device)\n",
    "        train_y = train_y.to(device)\n",
    "        \n",
    "        output = classifier(inputs)\n",
    "    \n",
    "        loss = criterion(output, train_y)\n",
    "    \n",
    "        optimizer.zero_grad()\n",
    "        loss.backward()\n",
    "    \n",
    "        optimizer.step()\n",
    "        \n",
    "        train_loss_avg[-1] += loss.item()\n",
    "        num_batches += 1\n",
    "    \n",
    "        \n",
    "    train_loss_avg[-1] /= num_batches\n",
    "    print('Epoch [%d / %d] average reconstruction error: %f' % (epoch+1, epoches, train_loss_avg[-1]))\n"
   ]
  },
  {
   "cell_type": "code",
   "execution_count": 5,
   "id": "b69886b2",
   "metadata": {},
   "outputs": [],
   "source": [
    "torch.cuda.empty_cache()"
   ]
  },
  {
   "cell_type": "code",
   "execution_count": 28,
   "id": "1f90e1fd",
   "metadata": {},
   "outputs": [],
   "source": [
    "torch.save(classifier, './classifier.pt')\n",
    "#classifier = torch.load('./classifier.pt')"
   ]
  },
  {
   "cell_type": "code",
   "execution_count": 38,
   "id": "efdbc039",
   "metadata": {},
   "outputs": [],
   "source": [
    "def predict(model, tokenizer, input):\n",
    "    return model(tokenizer(input, return_tensors=\"pt\"))"
   ]
  },
  {
   "cell_type": "code",
   "execution_count": 27,
   "id": "59671165",
   "metadata": {},
   "outputs": [
    {
     "data": {
      "text/plain": [
       "'play_music'"
      ]
     },
     "execution_count": 27,
     "metadata": {},
     "output_type": "execute_result"
    }
   ],
   "source": [
    "classifier.eval()\n",
    "classifier.to('cpu')\n",
    "value = torch.argmax(classifier(tokenizer(\"turn on cnn\", return_tensors='pt'))).item()\n",
    "uniques[value]\n",
    "\n"
   ]
  },
  {
   "cell_type": "code",
   "execution_count": null,
   "id": "3d0146a1",
   "metadata": {},
   "outputs": [],
   "source": []
  }
 ],
 "metadata": {
  "kernelspec": {
   "display_name": "Python 3 (ipykernel)",
   "language": "python",
   "name": "python3"
  },
  "language_info": {
   "codemirror_mode": {
    "name": "ipython",
    "version": 3
   },
   "file_extension": ".py",
   "mimetype": "text/x-python",
   "name": "python",
   "nbconvert_exporter": "python",
   "pygments_lexer": "ipython3",
   "version": "3.9.11"
  }
 },
 "nbformat": 4,
 "nbformat_minor": 5
}
